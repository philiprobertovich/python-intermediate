{
 "cells": [
  {
   "cell_type": "code",
   "execution_count": 22,
   "metadata": {},
   "outputs": [
    {
     "name": "stdout",
     "output_type": "stream",
     "text": [
      "tuple index out of range\n",
      "The list is shorter than 4 items\n"
     ]
    }
   ],
   "source": [
    "def fourth_place(*args):\n",
    "  if len(args) > 3:\n",
    "    return args[3]\n",
    "  else:\n",
    "    try:\n",
    "      return args[3]\n",
    "    except IndexError as error:\n",
    "      print(error)\n",
    "      print(\"The list is shorter than 4 items\")\n",
    "\n",
    "my_list = [1, 2, 4, 5]\n",
    "\n",
    "fourth_place(1, 2, 4)"
   ]
  },
  {
   "cell_type": "code",
   "execution_count": null,
   "metadata": {},
   "outputs": [],
   "source": []
  }
 ],
 "metadata": {
  "kernelspec": {
   "display_name": "Python 3.7.15 ('venv': venv)",
   "language": "python",
   "name": "python3"
  },
  "language_info": {
   "codemirror_mode": {
    "name": "ipython",
    "version": 3
   },
   "file_extension": ".py",
   "mimetype": "text/x-python",
   "name": "python",
   "nbconvert_exporter": "python",
   "pygments_lexer": "ipython3",
   "version": "3.7.15"
  },
  "orig_nbformat": 4,
  "vscode": {
   "interpreter": {
    "hash": "7891995774df98293c340da1c7f4b5077c77d3c0a3e179deb59493059146238a"
   }
  }
 },
 "nbformat": 4,
 "nbformat_minor": 2
}
