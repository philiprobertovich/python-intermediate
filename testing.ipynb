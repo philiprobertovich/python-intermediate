{
 "cells": [
  {
   "cell_type": "code",
   "execution_count": 22,
   "metadata": {},
   "outputs": [
    {
     "name": "stdout",
     "output_type": "stream",
     "text": [
      "tuple index out of range\n",
      "The list is shorter than 4 items\n"
     ]
    }
   ],
   "source": [
    "def fourth_place(*args):\n",
    "  if len(args) > 3:\n",
    "    return args[3]\n",
    "  else:\n",
    "    try:\n",
    "      return args[3]\n",
    "    except IndexError as error:\n",
    "      print(error)\n",
    "      print(\"The list is shorter than 4 items\")\n",
    "\n",
    "my_list = [1, 2, 4, 5]\n",
    "\n",
    "fourth_place(1, 2, 4)"
   ]
  },
  {
   "cell_type": "code",
   "execution_count": 25,
   "metadata": {},
   "outputs": [
    {
     "data": {
      "text/plain": [
       "4"
      ]
     },
     "execution_count": 25,
     "metadata": {},
     "output_type": "execute_result"
    }
   ],
   "source": [
    "subtracter_lambda = lambda num_1, num_2: num_1 - num_2\n",
    "(subtracter_lambda)(9, 5)"
   ]
  },
  {
   "cell_type": "code",
   "execution_count": 26,
   "metadata": {},
   "outputs": [
    {
     "name": "stdout",
     "output_type": "stream",
     "text": [
      "Your size in European measurements is 43 cm.\n",
      "Your size in European measurements is 42 cm.\n"
     ]
    }
   ],
   "source": [
    "class Shoe:\n",
    "  def __init__(self, US_size, color, smelly=False):\n",
    "    self.US_size = US_size\n",
    "    self.color = color\n",
    "    self.smelly = smelly\n",
    "\n",
    "  def euro_size(self):\n",
    "    convert = self.US_size + 33\n",
    "    print(f'Your size in European measurements is {convert} cm.')\n",
    "\n",
    "my_shoe = Shoe(10, 'Black', smelly=False)\n",
    "my_shoe.euro_size()\n",
    "\n",
    "my_dads_shoe = Shoe(9, 'Blue', smelly=True)\n",
    "my_dads_shoe.euro_size()"
   ]
  }
 ],
 "metadata": {
  "kernelspec": {
   "display_name": "Python 3.7.15 ('venv': venv)",
   "language": "python",
   "name": "python3"
  },
  "language_info": {
   "codemirror_mode": {
    "name": "ipython",
    "version": 3
   },
   "file_extension": ".py",
   "mimetype": "text/x-python",
   "name": "python",
   "nbconvert_exporter": "python",
   "pygments_lexer": "ipython3",
   "version": "3.7.15"
  },
  "orig_nbformat": 4,
  "vscode": {
   "interpreter": {
    "hash": "7891995774df98293c340da1c7f4b5077c77d3c0a3e179deb59493059146238a"
   }
  }
 },
 "nbformat": 4,
 "nbformat_minor": 2
}
