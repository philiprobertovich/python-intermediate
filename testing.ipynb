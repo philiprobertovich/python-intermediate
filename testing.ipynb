{
 "cells": [
  {
   "cell_type": "code",
   "execution_count": 47,
   "metadata": {},
   "outputs": [
    {
     "name": "stdout",
     "output_type": "stream",
     "text": [
      "tuple index out of range\n",
      "The list is shorter than 4 items\n"
     ]
    }
   ],
   "source": [
    "def fourth_place(*args):\n",
    "  try:\n",
    "    return args[3]\n",
    "  except IndexError as error:\n",
    "    print(error)\n",
    "    print(\"The list is shorter than 4 items\")\n",
    "\n",
    "my_list = [1, 2, 4, 5]\n",
    "\n",
    "fourth_place(1, 2, 4)"
   ]
  },
  {
   "cell_type": "code",
   "execution_count": 25,
   "metadata": {},
   "outputs": [
    {
     "data": {
      "text/plain": [
       "4"
      ]
     },
     "execution_count": 25,
     "metadata": {},
     "output_type": "execute_result"
    }
   ],
   "source": [
    "subtracter_lambda = lambda num_1, num_2: num_1 - num_2\n",
    "(subtracter_lambda)(9, 5)"
   ]
  },
  {
   "cell_type": "code",
   "execution_count": 26,
   "metadata": {},
   "outputs": [
    {
     "name": "stdout",
     "output_type": "stream",
     "text": [
      "Your size in European measurements is 43 cm.\n",
      "Your size in European measurements is 42 cm.\n"
     ]
    }
   ],
   "source": [
    "class Shoe:\n",
    "  def __init__(self, US_size, color, smelly=False):\n",
    "    self.US_size = US_size\n",
    "    self.color = color\n",
    "    self.smelly = smelly\n",
    "\n",
    "  def euro_size(self):\n",
    "    convert = self.US_size + 33\n",
    "    print(f'Your size in European measurements is {convert} cm.')\n",
    "\n",
    "my_shoe = Shoe(10, 'Black', smelly=False)\n",
    "my_shoe.euro_size()\n",
    "\n",
    "my_dads_shoe = Shoe(9, 'Blue', smelly=True)\n",
    "my_dads_shoe.euro_size()"
   ]
  },
  {
   "cell_type": "code",
   "execution_count": 52,
   "metadata": {},
   "outputs": [
    {
     "name": "stdout",
     "output_type": "stream",
     "text": [
      "\n",
      "    The Milky Way Galaxy is a galaxy in our universe. \n",
      "\n",
      "    This galaxy contains vasts amounts of different \n",
      "    space matter including astroids, space dust, and leprachauns. \n",
      "\n",
      "    In this galaxy, there are 9 planets. \n",
      "\n",
      "    Based on recent astronomical studies, astronomers have \n",
      "\n",
      "    decided that the statement of Pluto being a planent is True.  \n",
      "\n",
      "    Here is a list of the planets and their colors: \n",
      "\n",
      "    Mercury is gray. Venus is yellowish white. Earth is blue and green. Mars is red. Saturn is yellow-brown. Jupiter is orange. Uranus is light blue. Neptune is deep see blue. Pluto is brown. \n",
      "  \n"
     ]
    }
   ],
   "source": [
    "def galaxy(name: str, *space_debris: str, pluto_is_planet: bool =True, **planet_colors: str) -> str:\n",
    "  \"\"\"Takes a name of the galaxy, a list of various space matter and objects, a boolean value whether Pluto is a planet, and a dictionary of planets and their colors, and produces a paragraph detailing all these arguements and how they make up the galaxy.\n",
    "\n",
    "  Args:\n",
    "      name (str): Name of the galaxy\n",
    "      space_debris (list): List of various space objects and matter\n",
    "      pluto_is_planet (bool, optional): A boolean variable of whether pluto is a planet or not. Defaults to True.\n",
    "      planet_colors (dict): A dictionary of planets and their associated colors\n",
    "\n",
    "  Returns:\n",
    "      str: A paragraph of how all the different arguement comprise the galaxy\n",
    "  \"\"\"\n",
    "  debris_str = \"\"\n",
    "  for i in range(0, len(space_debris)-1):\n",
    "    debris_str += space_debris[i] + \", \"\n",
    "  \n",
    "  planets_str = \"\"\n",
    "  for key in planet_colors.keys():\n",
    "    planets_str += f\"{key.capitalize()} is {planet_colors[key]}. \"    \n",
    "\n",
    "\n",
    "  print(f'''\n",
    "    The {name} is a galaxy in our universe. \\n\n",
    "    This galaxy contains vasts amounts of different \n",
    "    space matter including {debris_str}and {space_debris[-1]}. \\n\n",
    "    In this galaxy, there are {len(planet_colors)} planets. \\n\n",
    "    Based on recent astronomical studies, astronomers have \\n\n",
    "    decided that the statement of Pluto being a planent is {pluto_is_planet}.  \\n\n",
    "    Here is a list of the planets and their colors: \\n\n",
    "    {planets_str}\n",
    "  ''')\n",
    "\n",
    "galaxy(\n",
    "  \"Milky Way Galaxy\", \n",
    "  'astroids', \n",
    "  'space dust', \n",
    "  'leprachauns', \n",
    "  mercury='gray',\n",
    "  venus='yellowish white',\n",
    "  earth='blue and green',\n",
    "  mars='red',\n",
    "  saturn='yellow-brown',\n",
    "  jupiter='orange',\n",
    "  uranus='light blue',\n",
    "  neptune='deep see blue',\n",
    "  pluto='brown'\n",
    ")\n",
    "\n"
   ]
  }
 ],
 "metadata": {
  "kernelspec": {
   "display_name": "Python 3.7.15 ('venv': venv)",
   "language": "python",
   "name": "python3"
  },
  "language_info": {
   "codemirror_mode": {
    "name": "ipython",
    "version": 3
   },
   "file_extension": ".py",
   "mimetype": "text/x-python",
   "name": "python",
   "nbconvert_exporter": "python",
   "pygments_lexer": "ipython3",
   "version": "3.7.15"
  },
  "orig_nbformat": 4,
  "vscode": {
   "interpreter": {
    "hash": "7891995774df98293c340da1c7f4b5077c77d3c0a3e179deb59493059146238a"
   }
  }
 },
 "nbformat": 4,
 "nbformat_minor": 2
}
